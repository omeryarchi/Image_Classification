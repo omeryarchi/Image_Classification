{
  "nbformat": 4,
  "nbformat_minor": 0,
  "metadata": {
    "colab": {
      "name": "Image_Classification.ipynb",
      "provenance": [],
      "collapsed_sections": [],
      "authorship_tag": "ABX9TyOZpj/XPwqsuSttfQlGX36p",
      "include_colab_link": true
    },
    "kernelspec": {
      "name": "python3",
      "display_name": "Python 3"
    },
    "accelerator": "GPU"
  },
  "cells": [
    {
      "cell_type": "markdown",
      "metadata": {
        "id": "view-in-github",
        "colab_type": "text"
      },
      "source": [
        "<a href=\"https://colab.research.google.com/github/omeryarchi/Image_classification/blob/master/Image_Classification.ipynb\" target=\"_parent\"><img src=\"https://colab.research.google.com/assets/colab-badge.svg\" alt=\"Open In Colab\"/></a>"
      ]
    },
    {
      "cell_type": "code",
      "metadata": {
        "id": "G4ugLtJUzoid",
        "colab_type": "code",
        "colab": {}
      },
      "source": [
        "pip install -q tensorflow tensorflow-datasets"
      ],
      "execution_count": 1,
      "outputs": []
    },
    {
      "cell_type": "markdown",
      "metadata": {
        "id": "cZdFNw7G0lTr",
        "colab_type": "text"
      },
      "source": [
        "## Import Necessary Libraries"
      ]
    },
    {
      "cell_type": "code",
      "metadata": {
        "id": "3OUotlid0oBq",
        "colab_type": "code",
        "colab": {}
      },
      "source": [
        "import matplotlib.pyplot as plt\n",
        "import numpy as np\n",
        "import tensorflow as tf\n",
        "import tensorflow_datasets as tfds\n",
        "from tensorflow import keras\n",
        "\n",
        "tfds.disable_progress_bar()"
      ],
      "execution_count": 2,
      "outputs": []
    },
    {
      "cell_type": "markdown",
      "metadata": {
        "id": "nBCO_F5X1KjB",
        "colab_type": "text"
      },
      "source": [
        "##Find Datasets"
      ]
    },
    {
      "cell_type": "code",
      "metadata": {
        "id": "BYU32JA71u0E",
        "colab_type": "code",
        "colab": {
          "base_uri": "https://localhost:8080/",
          "height": 1000
        },
        "outputId": "b67d5346-ab9d-4034-a4bc-d9c57b52caaf"
      },
      "source": [
        "tfds.list_builders()"
      ],
      "execution_count": 3,
      "outputs": [
        {
          "output_type": "execute_result",
          "data": {
            "text/plain": [
              "['abstract_reasoning',\n",
              " 'aeslc',\n",
              " 'aflw2k3d',\n",
              " 'amazon_us_reviews',\n",
              " 'arc',\n",
              " 'bair_robot_pushing_small',\n",
              " 'beans',\n",
              " 'big_patent',\n",
              " 'bigearthnet',\n",
              " 'billsum',\n",
              " 'binarized_mnist',\n",
              " 'binary_alpha_digits',\n",
              " 'c4',\n",
              " 'caltech101',\n",
              " 'caltech_birds2010',\n",
              " 'caltech_birds2011',\n",
              " 'cars196',\n",
              " 'cassava',\n",
              " 'cats_vs_dogs',\n",
              " 'celeb_a',\n",
              " 'celeb_a_hq',\n",
              " 'cfq',\n",
              " 'chexpert',\n",
              " 'cifar10',\n",
              " 'cifar100',\n",
              " 'cifar10_1',\n",
              " 'cifar10_corrupted',\n",
              " 'citrus_leaves',\n",
              " 'cityscapes',\n",
              " 'civil_comments',\n",
              " 'clevr',\n",
              " 'cmaterdb',\n",
              " 'cnn_dailymail',\n",
              " 'coco',\n",
              " 'coil100',\n",
              " 'colorectal_histology',\n",
              " 'colorectal_histology_large',\n",
              " 'cos_e',\n",
              " 'curated_breast_imaging_ddsm',\n",
              " 'cycle_gan',\n",
              " 'deep_weeds',\n",
              " 'definite_pronoun_resolution',\n",
              " 'diabetic_retinopathy_detection',\n",
              " 'div2k',\n",
              " 'dmlab',\n",
              " 'downsampled_imagenet',\n",
              " 'dsprites',\n",
              " 'dtd',\n",
              " 'duke_ultrasound',\n",
              " 'dummy_dataset_shared_generator',\n",
              " 'dummy_mnist',\n",
              " 'emnist',\n",
              " 'eraser_multi_rc',\n",
              " 'esnli',\n",
              " 'eurosat',\n",
              " 'fashion_mnist',\n",
              " 'flic',\n",
              " 'flores',\n",
              " 'food101',\n",
              " 'gap',\n",
              " 'gigaword',\n",
              " 'glue',\n",
              " 'groove',\n",
              " 'higgs',\n",
              " 'horses_or_humans',\n",
              " 'i_naturalist2017',\n",
              " 'image_label_folder',\n",
              " 'imagenet2012',\n",
              " 'imagenet2012_corrupted',\n",
              " 'imagenet_resized',\n",
              " 'imagenette',\n",
              " 'imagewang',\n",
              " 'imdb_reviews',\n",
              " 'iris',\n",
              " 'kitti',\n",
              " 'kmnist',\n",
              " 'lfw',\n",
              " 'librispeech',\n",
              " 'librispeech_lm',\n",
              " 'libritts',\n",
              " 'lm1b',\n",
              " 'lost_and_found',\n",
              " 'lsun',\n",
              " 'malaria',\n",
              " 'math_dataset',\n",
              " 'mnist',\n",
              " 'mnist_corrupted',\n",
              " 'movie_rationales',\n",
              " 'moving_mnist',\n",
              " 'multi_news',\n",
              " 'multi_nli',\n",
              " 'multi_nli_mismatch',\n",
              " 'natural_questions',\n",
              " 'newsroom',\n",
              " 'nsynth',\n",
              " 'omniglot',\n",
              " 'open_images_v4',\n",
              " 'opinosis',\n",
              " 'oxford_flowers102',\n",
              " 'oxford_iiit_pet',\n",
              " 'para_crawl',\n",
              " 'patch_camelyon',\n",
              " 'pet_finder',\n",
              " 'places365_small',\n",
              " 'plant_leaves',\n",
              " 'plant_village',\n",
              " 'plantae_k',\n",
              " 'qa4mre',\n",
              " 'quickdraw_bitmap',\n",
              " 'reddit_tifu',\n",
              " 'resisc45',\n",
              " 'rock_paper_scissors',\n",
              " 'rock_you',\n",
              " 'scan',\n",
              " 'scene_parse150',\n",
              " 'scicite',\n",
              " 'scientific_papers',\n",
              " 'shapes3d',\n",
              " 'smallnorb',\n",
              " 'snli',\n",
              " 'so2sat',\n",
              " 'speech_commands',\n",
              " 'squad',\n",
              " 'stanford_dogs',\n",
              " 'stanford_online_products',\n",
              " 'starcraft_video',\n",
              " 'sun397',\n",
              " 'super_glue',\n",
              " 'svhn_cropped',\n",
              " 'ted_hrlr_translate',\n",
              " 'ted_multi_translate',\n",
              " 'tf_flowers',\n",
              " 'the300w_lp',\n",
              " 'tiny_shakespeare',\n",
              " 'titanic',\n",
              " 'trivia_qa',\n",
              " 'uc_merced',\n",
              " 'ucf101',\n",
              " 'vgg_face2',\n",
              " 'visual_domain_decathlon',\n",
              " 'voc',\n",
              " 'wider_face',\n",
              " 'wikihow',\n",
              " 'wikipedia',\n",
              " 'wmt14_translate',\n",
              " 'wmt15_translate',\n",
              " 'wmt16_translate',\n",
              " 'wmt17_translate',\n",
              " 'wmt18_translate',\n",
              " 'wmt19_translate',\n",
              " 'wmt_t2t_translate',\n",
              " 'wmt_translate',\n",
              " 'xnli',\n",
              " 'xsum',\n",
              " 'yelp_polarity_reviews']"
            ]
          },
          "metadata": {
            "tags": []
          },
          "execution_count": 3
        }
      ]
    },
    {
      "cell_type": "markdown",
      "metadata": {
        "id": "zRDINt4R16GG",
        "colab_type": "text"
      },
      "source": [
        "##Get information on the data"
      ]
    },
    {
      "cell_type": "code",
      "metadata": {
        "id": "UGfWt2CP11hM",
        "colab_type": "code",
        "colab": {
          "base_uri": "https://localhost:8080/",
          "height": 433
        },
        "outputId": "40b329c3-325f-4bc8-b69d-581e4e0adcda"
      },
      "source": [
        "builder = tfds.builder(\"rock_paper_scissors\")\n",
        "info = builder.info\n",
        "\n",
        "info"
      ],
      "execution_count": 4,
      "outputs": [
        {
          "output_type": "execute_result",
          "data": {
            "text/plain": [
              "tfds.core.DatasetInfo(\n",
              "    name='rock_paper_scissors',\n",
              "    version=3.0.0,\n",
              "    description='Images of hands playing rock, paper, scissor game.',\n",
              "    homepage='http://laurencemoroney.com/rock-paper-scissors-dataset',\n",
              "    features=FeaturesDict({\n",
              "        'image': Image(shape=(300, 300, 3), dtype=tf.uint8),\n",
              "        'label': ClassLabel(shape=(), dtype=tf.int64, num_classes=3),\n",
              "    }),\n",
              "    total_num_examples=2892,\n",
              "    splits={\n",
              "        'test': 372,\n",
              "        'train': 2520,\n",
              "    },\n",
              "    supervised_keys=('image', 'label'),\n",
              "    citation=\"\"\"@ONLINE {rps,\n",
              "    author = \"Laurence Moroney\",\n",
              "    title = \"Rock, Paper, Scissors Dataset\",\n",
              "    month = \"feb\",\n",
              "    year = \"2019\",\n",
              "    url = \"http://laurencemoroney.com/rock-paper-scissors-dataset\"\n",
              "    }\"\"\",\n",
              "    redistribution_info=,\n",
              ")"
            ]
          },
          "metadata": {
            "tags": []
          },
          "execution_count": 4
        }
      ]
    },
    {
      "cell_type": "markdown",
      "metadata": {
        "id": "PEEMA8Hj2tQ9",
        "colab_type": "text"
      },
      "source": [
        "##Prepare Rock, Paper, Scissors Data"
      ]
    },
    {
      "cell_type": "code",
      "metadata": {
        "id": "OvJyt09q2WQe",
        "colab_type": "code",
        "colab": {
          "base_uri": "https://localhost:8080/",
          "height": 176
        },
        "outputId": "15ef3fb7-c63f-44f8-982a-d6786c4db3ec"
      },
      "source": [
        "ds_train = tfds.load(name = \"rock_paper_scissors\", split = \"train\")\n",
        "ds_test = tfds.load(name = \"rock_paper_scissors\", split = \"test\")"
      ],
      "execution_count": 5,
      "outputs": [
        {
          "output_type": "stream",
          "text": [
            "\u001b[1mDownloading and preparing dataset rock_paper_scissors/3.0.0 (download: 219.53 MiB, generated: Unknown size, total: 219.53 MiB) to /root/tensorflow_datasets/rock_paper_scissors/3.0.0...\u001b[0m\n"
          ],
          "name": "stdout"
        },
        {
          "output_type": "stream",
          "text": [
            "/usr/local/lib/python3.6/dist-packages/urllib3/connectionpool.py:847: InsecureRequestWarning: Unverified HTTPS request is being made. Adding certificate verification is strongly advised. See: https://urllib3.readthedocs.io/en/latest/advanced-usage.html#ssl-warnings\n",
            "  InsecureRequestWarning)\n",
            "/usr/local/lib/python3.6/dist-packages/urllib3/connectionpool.py:847: InsecureRequestWarning: Unverified HTTPS request is being made. Adding certificate verification is strongly advised. See: https://urllib3.readthedocs.io/en/latest/advanced-usage.html#ssl-warnings\n",
            "  InsecureRequestWarning)\n"
          ],
          "name": "stderr"
        },
        {
          "output_type": "stream",
          "text": [
            "Shuffling and writing examples to /root/tensorflow_datasets/rock_paper_scissors/3.0.0.incomplete2WP0ZQ/rock_paper_scissors-train.tfrecord\n",
            "Shuffling and writing examples to /root/tensorflow_datasets/rock_paper_scissors/3.0.0.incomplete2WP0ZQ/rock_paper_scissors-test.tfrecord\n",
            "\u001b[1mDataset rock_paper_scissors downloaded and prepared to /root/tensorflow_datasets/rock_paper_scissors/3.0.0. Subsequent calls will reuse this data.\u001b[0m\n"
          ],
          "name": "stdout"
        }
      ]
    },
    {
      "cell_type": "markdown",
      "metadata": {
        "id": "KZBRgw373wLW",
        "colab_type": "text"
      },
      "source": [
        "##Show examples"
      ]
    },
    {
      "cell_type": "code",
      "metadata": {
        "id": "p9UX3Inn3RTl",
        "colab_type": "code",
        "colab": {
          "base_uri": "https://localhost:8080/",
          "height": 534
        },
        "outputId": "b88e1bb1-47c5-41e8-82fe-027835bc3e1b"
      },
      "source": [
        "fig = tfds.show_examples(info, ds_train)"
      ],
      "execution_count": 6,
      "outputs": [
        {
          "output_type": "display_data",
          "data": {
            "image/png": "[encoded data removed]",
            "text/plain": [
              "<Figure size 648x648 with 9 Axes>"
            ]
          },
          "metadata": {
            "tags": []
          }
        }
      ]
    },
    {
      "cell_type": "markdown",
      "metadata": {
        "id": "due67Mph4hDc",
        "colab_type": "text"
      },
      "source": [
        "##Additional Data prep"
      ]
    },
    {
      "cell_type": "code",
      "metadata": {
        "id": "Gn9EfDdD4FuU",
        "colab_type": "code",
        "colab": {}
      },
      "source": [
        "train_images = np.array([example[\"image\"].numpy()[:,:,0] for example in ds_train])\n",
        "train_labels = np.array([example[\"label\"].numpy() for example in ds_train])\n",
        "\n",
        "test_images = np.array([example[\"image\"].numpy()[:,:,0] for example in ds_test])\n",
        "test_labels = np.array([example[\"label\"].numpy() for example in ds_test])"
      ],
      "execution_count": 7,
      "outputs": []
    },
    {
      "cell_type": "code",
      "metadata": {
        "id": "ZjpW7Ssk5OLi",
        "colab_type": "code",
        "colab": {}
      },
      "source": [
        "train_images = train_images.reshape(2520, 300, 300, 1)\n",
        "test_images = test_images.reshape(372, 300, 300, 1)\n",
        "\n",
        "train_images = train_images.astype(\"float32\")\n",
        "test_images = test_images.astype(\"float32\")\n",
        "\n",
        "train_images /= 255\n",
        "test_images /= 255\n"
      ],
      "execution_count": 8,
      "outputs": []
    },
    {
      "cell_type": "markdown",
      "metadata": {
        "id": "JOd24RT68qYX",
        "colab_type": "text"
      },
      "source": [
        "##Train a network"
      ]
    },
    {
      "cell_type": "code",
      "metadata": {
        "id": "BXwWmnSf5Wik",
        "colab_type": "code",
        "colab": {
          "base_uri": "https://localhost:8080/",
          "height": 208
        },
        "outputId": "4f856165-0799-4a09-ca67-a5982237ae80"
      },
      "source": [
        "model = keras.Sequential([\n",
        "  keras.layers.Flatten(),                        \n",
        "  keras.layers.Dense(512, activation=\"relu\"),\n",
        "  keras.layers.Dense(256, activation=\"relu\"),\n",
        "  keras.layers.Dense(3, activation=\"softmax\")                          \n",
        "])\n",
        "\n",
        "model.compile(optimizer=\"adam\",\n",
        "              loss = keras.losses.SparseCategoricalCrossentropy(), \n",
        "              metrics = [\"accuracy\"])\n",
        "\n",
        "model.fit(train_images, train_labels, epochs=5, batch_size=32)"
      ],
      "execution_count": 35,
      "outputs": [
        {
          "output_type": "stream",
          "text": [
            "Epoch 1/5\n",
            "79/79 [==============================] - 20s 257ms/step - loss: 1.0990 - accuracy: 0.3139\n",
            "Epoch 2/5\n",
            "79/79 [==============================] - 20s 258ms/step - loss: 1.0989 - accuracy: 0.3087\n",
            "Epoch 3/5\n",
            "79/79 [==============================] - 20s 257ms/step - loss: 1.0987 - accuracy: 0.3222\n",
            "Epoch 4/5\n",
            "79/79 [==============================] - 20s 257ms/step - loss: 1.0988 - accuracy: 0.3234\n",
            "Epoch 5/5\n",
            "79/79 [==============================] - 20s 259ms/step - loss: 1.0987 - accuracy: 0.3333\n"
          ],
          "name": "stdout"
        },
        {
          "output_type": "execute_result",
          "data": {
            "text/plain": [
              "<tensorflow.python.keras.callbacks.History at 0x7fe44b293c88>"
            ]
          },
          "metadata": {
            "tags": []
          },
          "execution_count": 35
        }
      ]
    },
    {
      "cell_type": "code",
      "metadata": {
        "id": "Bt9Zg9mE-qW_",
        "colab_type": "code",
        "colab": {
          "base_uri": "https://localhost:8080/",
          "height": 52
        },
        "outputId": "966c657f-4b40-4f70-ec89-d9e53d22644c"
      },
      "source": [
        "model.evaluate(test_images, test_labels)\n",
        "\n",
        "#Overfit"
      ],
      "execution_count": 34,
      "outputs": [
        {
          "output_type": "stream",
          "text": [
            "12/12 [==============================] - 1s 82ms/step - loss: 1.0986 - accuracy: 0.3333\n"
          ],
          "name": "stdout"
        },
        {
          "output_type": "execute_result",
          "data": {
            "text/plain": [
              "[1.098616600036621, 0.3333333432674408]"
            ]
          },
          "metadata": {
            "tags": []
          },
          "execution_count": 34
        }
      ]
    },
    {
      "cell_type": "markdown",
      "metadata": {
        "id": "nK-igEoHCse2",
        "colab_type": "text"
      },
      "source": [
        "## Train a network (convolution)"
      ]
    },
    {
      "cell_type": "code",
      "metadata": {
        "id": "38DjXscJAnoq",
        "colab_type": "code",
        "colab": {
          "base_uri": "https://localhost:8080/",
          "height": 263
        },
        "outputId": "06312af5-b0b1-4c39-d07a-6e7083c13d6b"
      },
      "source": [
        "model = keras.Sequential([\n",
        "  keras.layers.Conv2D(64, 3, activation=\"relu\", input_shape=(300, 300, 1)),\n",
        "  keras.layers.Conv2D(32, 3, activation=\"relu\"),\n",
        "  keras.layers.Flatten(),\n",
        "  keras.layers.Dense(3, activation=\"softmax\")                          \n",
        "])\n",
        "  \n",
        "model.compile(optimizer=\"adam\",\n",
        "              loss = keras.losses.SparseCategoricalCrossentropy(), \n",
        "              metrics = [\"accuracy\"])\n",
        "\n",
        "model.fit(train_images, train_labels, epochs=5, batch_size=32)"
      ],
      "execution_count": 11,
      "outputs": [
        {
          "output_type": "stream",
          "text": [
            "Epoch 1/5\n",
            " 2/79 [..............................] - ETA: 13s - loss: 19.5706 - accuracy: 0.2969WARNING:tensorflow:Callbacks method `on_train_batch_end` is slow compared to the batch time (batch time: 0.0526s vs `on_train_batch_end` time: 0.1244s). Check your callbacks.\n"
          ],
          "name": "stdout"
        },
        {
          "output_type": "stream",
          "text": [
            "WARNING:tensorflow:Callbacks method `on_train_batch_end` is slow compared to the batch time (batch time: 0.0526s vs `on_train_batch_end` time: 0.1244s). Check your callbacks.\n"
          ],
          "name": "stderr"
        },
        {
          "output_type": "stream",
          "text": [
            "79/79 [==============================] - 13s 171ms/step - loss: 5.0968 - accuracy: 0.6111\n",
            "Epoch 2/5\n",
            "79/79 [==============================] - 14s 173ms/step - loss: 0.3219 - accuracy: 0.9238\n",
            "Epoch 3/5\n",
            "79/79 [==============================] - 14s 175ms/step - loss: 0.0546 - accuracy: 0.9897\n",
            "Epoch 4/5\n",
            "79/79 [==============================] - 14s 171ms/step - loss: 0.0243 - accuracy: 0.9960\n",
            "Epoch 5/5\n",
            "79/79 [==============================] - 13s 169ms/step - loss: 0.0110 - accuracy: 0.9988\n"
          ],
          "name": "stdout"
        },
        {
          "output_type": "execute_result",
          "data": {
            "text/plain": [
              "<tensorflow.python.keras.callbacks.History at 0x7f5c5ffcfc88>"
            ]
          },
          "metadata": {
            "tags": []
          },
          "execution_count": 11
        }
      ]
    },
    {
      "cell_type": "code",
      "metadata": {
        "id": "eZQ_vWfjD6eL",
        "colab_type": "code",
        "colab": {
          "base_uri": "https://localhost:8080/",
          "height": 52
        },
        "outputId": "afd49b94-12b3-4a8c-ec8d-52dcc02eb932"
      },
      "source": [
        "model.evaluate(test_images, test_labels)\n",
        "\n",
        "#Overfit"
      ],
      "execution_count": 13,
      "outputs": [
        {
          "output_type": "stream",
          "text": [
            "12/12 [==============================] - 1s 49ms/step - loss: 1.4917 - accuracy: 0.5538\n"
          ],
          "name": "stdout"
        },
        {
          "output_type": "execute_result",
          "data": {
            "text/plain": [
              "[1.4917019605636597, 0.5537634491920471]"
            ]
          },
          "metadata": {
            "tags": []
          },
          "execution_count": 13
        }
      ]
    },
    {
      "cell_type": "markdown",
      "metadata": {
        "id": "Ji9QmbSgGnc6",
        "colab_type": "text"
      },
      "source": [
        "##A better convolutional network"
      ]
    },
    {
      "cell_type": "code",
      "metadata": {
        "id": "9b-Tb1HJGN89",
        "colab_type": "code",
        "colab": {
          "base_uri": "https://localhost:8080/",
          "height": 208
        },
        "outputId": "71db8d8d-9752-4ea0-8719-c83b524dd36a"
      },
      "source": [
        "model = keras.Sequential([\n",
        "  keras.layers.AveragePooling2D(6, 3, input_shape=(300, 300, 1)),\n",
        "  keras.layers.Conv2D(64, 3, activation=\"relu\", input_shape=(300, 300, 1)),\n",
        "  keras.layers.Conv2D(32, 3, activation=\"relu\"),\n",
        "  keras.layers.MaxPool2D(2, 2),\n",
        "  keras.layers.Dropout(0.5),\n",
        "  keras.layers.Flatten(),\n",
        "  keras.layers.Dense(128, activation=\"relu\"),\n",
        "  keras.layers.Dense(3, activation=\"softmax\")                          \n",
        "])\n",
        "  \n",
        "model.compile(optimizer=\"adam\",\n",
        "              loss = keras.losses.SparseCategoricalCrossentropy(), \n",
        "              metrics = [\"accuracy\"])\n",
        "\n",
        "model.fit(train_images, train_labels, epochs=5, batch_size=32)"
      ],
      "execution_count": 35,
      "outputs": [
        {
          "output_type": "stream",
          "text": [
            "Epoch 1/5\n",
            "79/79 [==============================] - 2s 28ms/step - loss: 0.7545 - accuracy: 0.7159\n",
            "Epoch 2/5\n",
            "79/79 [==============================] - 2s 27ms/step - loss: 0.0792 - accuracy: 0.9813\n",
            "Epoch 3/5\n",
            "79/79 [==============================] - 2s 27ms/step - loss: 0.0212 - accuracy: 0.9968\n",
            "Epoch 4/5\n",
            "79/79 [==============================] - 2s 27ms/step - loss: 0.0178 - accuracy: 0.9972\n",
            "Epoch 5/5\n",
            "79/79 [==============================] - 2s 27ms/step - loss: 0.0049 - accuracy: 0.9996\n"
          ],
          "name": "stdout"
        },
        {
          "output_type": "execute_result",
          "data": {
            "text/plain": [
              "<tensorflow.python.keras.callbacks.History at 0x7f5c277b0be0>"
            ]
          },
          "metadata": {
            "tags": []
          },
          "execution_count": 35
        }
      ]
    },
    {
      "cell_type": "code",
      "metadata": {
        "id": "TqNhvExuHv17",
        "colab_type": "code",
        "colab": {
          "base_uri": "https://localhost:8080/",
          "height": 52
        },
        "outputId": "c05a3d56-3a5e-434b-f1a4-48779b779704"
      },
      "source": [
        "model.evaluate(test_images, test_labels)"
      ],
      "execution_count": 38,
      "outputs": [
        {
          "output_type": "stream",
          "text": [
            "12/12 [==============================] - 0s 11ms/step - loss: 1.8676 - accuracy: 0.6048\n"
          ],
          "name": "stdout"
        },
        {
          "output_type": "execute_result",
          "data": {
            "text/plain": [
              "[1.8675904273986816, 0.6048387289047241]"
            ]
          },
          "metadata": {
            "tags": []
          },
          "execution_count": 38
        }
      ]
    },
    {
      "cell_type": "markdown",
      "metadata": {
        "id": "zUFzPRucJxJG",
        "colab_type": "text"
      },
      "source": [
        "##Hyperparameter tuning"
      ]
    },
    {
      "cell_type": "code",
      "metadata": {
        "id": "mNEaydGxH6b6",
        "colab_type": "code",
        "colab": {}
      },
      "source": [
        "pip install -U keras-tuner"
      ],
      "execution_count": null,
      "outputs": []
    },
    {
      "cell_type": "code",
      "metadata": {
        "id": "rVRQ60wKKCda",
        "colab_type": "code",
        "colab": {}
      },
      "source": [
        "from kerastuner.tuners import RandomSearch"
      ],
      "execution_count": 40,
      "outputs": []
    },
    {
      "cell_type": "code",
      "metadata": {
        "id": "BhMRP5v8KuUS",
        "colab_type": "code",
        "colab": {
          "base_uri": "https://localhost:8080/",
          "height": 1000
        },
        "outputId": "a9dc83a2-c9e8-48aa-e891-d9d57e080db8"
      },
      "source": [
        "def build_model(hp):\n",
        "  model = keras.Sequential()\n",
        "  model.add(keras.layers.AveragePooling2D(6, 3, input_shape=(300, 300, 1)))\n",
        "  model.add(keras.layers.Conv2D(64, 3, activation=\"relu\", input_shape=(300, 300, 1)))\n",
        "  model.add(keras.layers.Conv2D(32, 3, activation=\"relu\"))\n",
        "  model.add(keras.layers.MaxPool2D(2, 2))\n",
        "  model.add(keras.layers.Dropout(0.5))\n",
        "  model.add(keras.layers.Flatten())\n",
        "  model.add(keras.layers.Dense(hp.Choice(\"Dense layer\", [64, 128, 256, 512, 1024]), activation=\"relu\"))\n",
        "  model.add(keras.layers.Dense(3, activation=\"softmax\"))\n",
        "\n",
        "  model.compile(optimizer=\"adam\",\n",
        "              loss = keras.losses.SparseCategoricalCrossentropy(), \n",
        "              metrics = [\"accuracy\"])\n",
        "  return model\n",
        "\n",
        "tuner = RandomSearch(\n",
        "    build_model,\n",
        "    objective = \"val_accuracy\",\n",
        "    max_trials=32\n",
        "  )\n",
        "\n",
        "tuner.search(train_images, train_labels, validation_data=(test_images, test_labels), epochs=10, batch_size=32)"
      ],
      "execution_count": 44,
      "outputs": [
        {
          "output_type": "stream",
          "text": [
            "INFO:tensorflow:Reloading Oracle from existing project ./untitled_project/oracle.json\n"
          ],
          "name": "stdout"
        },
        {
          "output_type": "stream",
          "text": [
            "INFO:tensorflow:Reloading Oracle from existing project ./untitled_project/oracle.json\n"
          ],
          "name": "stderr"
        },
        {
          "output_type": "stream",
          "text": [
            "Epoch 1/10\n",
            " 2/79 [..............................] - ETA: 2s - loss: 1.1535 - accuracy: 0.4375WARNING:tensorflow:Callbacks method `on_train_batch_end` is slow compared to the batch time (batch time: 0.0181s vs `on_train_batch_end` time: 0.0389s). Check your callbacks.\n"
          ],
          "name": "stdout"
        },
        {
          "output_type": "stream",
          "text": [
            "WARNING:tensorflow:Callbacks method `on_train_batch_end` is slow compared to the batch time (batch time: 0.0181s vs `on_train_batch_end` time: 0.0389s). Check your callbacks.\n"
          ],
          "name": "stderr"
        },
        {
          "output_type": "stream",
          "text": [
            "79/79 [==============================] - 7s 90ms/step - loss: 0.9747 - accuracy: 0.8103 - val_loss: 0.9159 - val_accuracy: 0.7392\n",
            "Epoch 2/10\n",
            "79/79 [==============================] - 4s 46ms/step - loss: 0.0292 - accuracy: 0.9937 - val_loss: 1.0862 - val_accuracy: 0.7151\n",
            "Epoch 3/10\n",
            "79/79 [==============================] - 4s 45ms/step - loss: 0.0070 - accuracy: 0.9976 - val_loss: 1.2755 - val_accuracy: 0.6909\n",
            "Epoch 4/10\n",
            "79/79 [==============================] - 4s 45ms/step - loss: 0.0220 - accuracy: 0.9929 - val_loss: 1.9516 - val_accuracy: 0.6667\n",
            "Epoch 5/10\n",
            "79/79 [==============================] - 4s 45ms/step - loss: 0.0063 - accuracy: 0.9992 - val_loss: 2.0136 - val_accuracy: 0.7285\n",
            "Epoch 6/10\n",
            "79/79 [==============================] - 4s 45ms/step - loss: 0.0013 - accuracy: 1.0000 - val_loss: 2.2564 - val_accuracy: 0.7312\n",
            "Epoch 7/10\n",
            "79/79 [==============================] - 4s 45ms/step - loss: 0.0035 - accuracy: 0.9996 - val_loss: 2.4043 - val_accuracy: 0.6694\n",
            "Epoch 8/10\n",
            "79/79 [==============================] - 4s 46ms/step - loss: 2.3834e-04 - accuracy: 1.0000 - val_loss: 2.4926 - val_accuracy: 0.6962\n",
            "Epoch 9/10\n",
            "79/79 [==============================] - 4s 45ms/step - loss: 0.2069 - accuracy: 0.9444 - val_loss: 0.9233 - val_accuracy: 0.5323\n",
            "Epoch 10/10\n",
            "79/79 [==============================] - 7s 84ms/step - loss: 0.4027 - accuracy: 0.8492 - val_loss: 1.4101 - val_accuracy: 0.7554\n"
          ],
          "name": "stdout"
        },
        {
          "output_type": "display_data",
          "data": {
            "text/html": [
              "<span style=\"color:#4527A0\"><h1 style=\"font-size:18px\">Trial complete</h1></span>"
            ],
            "text/plain": [
              "<IPython.core.display.HTML object>"
            ]
          },
          "metadata": {
            "tags": []
          }
        },
        {
          "output_type": "display_data",
          "data": {
            "text/html": [
              "<span style=\"color:#4527A0\"><h1 style=\"font-size:18px\">Trial summary</h1></span>"
            ],
            "text/plain": [
              "<IPython.core.display.HTML object>"
            ]
          },
          "metadata": {
            "tags": []
          }
        },
        {
          "output_type": "display_data",
          "data": {
            "text/html": [
              "<span style=\"color:cyan\"> |-Trial ID: 61bd650101efed91f4f28fd8885720c1</span>"
            ],
            "text/plain": [
              "<IPython.core.display.HTML object>"
            ]
          },
          "metadata": {
            "tags": []
          }
        },
        {
          "output_type": "display_data",
          "data": {
            "text/html": [
              "<span style=\"color:cyan\"> |-Score: 0.7553763389587402</span>"
            ],
            "text/plain": [
              "<IPython.core.display.HTML object>"
            ]
          },
          "metadata": {
            "tags": []
          }
        },
        {
          "output_type": "display_data",
          "data": {
            "text/html": [
              "<span style=\"color:cyan\"> |-Best step: 0</span>"
            ],
            "text/plain": [
              "<IPython.core.display.HTML object>"
            ]
          },
          "metadata": {
            "tags": []
          }
        },
        {
          "output_type": "display_data",
          "data": {
            "text/html": [
              "<span style=\"color:#7E57C2\"><h2 style=\"font-size:16px\">Hyperparameters:</h2></span>"
            ],
            "text/plain": [
              "<IPython.core.display.HTML object>"
            ]
          },
          "metadata": {
            "tags": []
          }
        },
        {
          "output_type": "display_data",
          "data": {
            "text/html": [
              "<span style=\"color:cyan\"> |-Dense layer: 1024</span>"
            ],
            "text/plain": [
              "<IPython.core.display.HTML object>"
            ]
          },
          "metadata": {
            "tags": []
          }
        },
        {
          "output_type": "stream",
          "text": [
            "Epoch 1/10\n",
            " 1/79 [..............................] - ETA: 0s - loss: 1.1232 - accuracy: 0.3438WARNING:tensorflow:Callbacks method `on_train_batch_end` is slow compared to the batch time (batch time: 0.0129s vs `on_train_batch_end` time: 0.0219s). Check your callbacks.\n"
          ],
          "name": "stdout"
        },
        {
          "output_type": "stream",
          "text": [
            "WARNING:tensorflow:Callbacks method `on_train_batch_end` is slow compared to the batch time (batch time: 0.0129s vs `on_train_batch_end` time: 0.0219s). Check your callbacks.\n"
          ],
          "name": "stderr"
        },
        {
          "output_type": "stream",
          "text": [
            "79/79 [==============================] - 3s 36ms/step - loss: 0.6199 - accuracy: 0.7758 - val_loss: 0.7259 - val_accuracy: 0.7177\n",
            "Epoch 2/10\n",
            "79/79 [==============================] - 3s 35ms/step - loss: 0.0585 - accuracy: 0.9885 - val_loss: 0.6502 - val_accuracy: 0.7554\n",
            "Epoch 3/10\n",
            "79/79 [==============================] - 2s 31ms/step - loss: 0.0181 - accuracy: 0.9952 - val_loss: 0.8175 - val_accuracy: 0.7392\n",
            "Epoch 4/10\n",
            "79/79 [==============================] - 2s 31ms/step - loss: 0.0044 - accuracy: 0.9996 - val_loss: 0.8140 - val_accuracy: 0.7554\n",
            "Epoch 5/10\n",
            "79/79 [==============================] - 2s 31ms/step - loss: 0.0043 - accuracy: 0.9992 - val_loss: 0.9187 - val_accuracy: 0.7151\n",
            "Epoch 6/10\n",
            "79/79 [==============================] - 2s 31ms/step - loss: 0.0017 - accuracy: 1.0000 - val_loss: 0.9201 - val_accuracy: 0.7258\n",
            "Epoch 7/10\n",
            "79/79 [==============================] - 2s 31ms/step - loss: 0.0011 - accuracy: 1.0000 - val_loss: 1.0564 - val_accuracy: 0.7151\n",
            "Epoch 8/10\n",
            "79/79 [==============================] - 2s 31ms/step - loss: 0.0047 - accuracy: 0.9996 - val_loss: 1.0861 - val_accuracy: 0.6935\n",
            "Epoch 9/10\n",
            "79/79 [==============================] - 2s 31ms/step - loss: 0.0126 - accuracy: 0.9964 - val_loss: 1.1230 - val_accuracy: 0.6720\n",
            "Epoch 10/10\n",
            "79/79 [==============================] - 2s 31ms/step - loss: 0.0191 - accuracy: 0.9956 - val_loss: 1.1535 - val_accuracy: 0.6801\n"
          ],
          "name": "stdout"
        },
        {
          "output_type": "display_data",
          "data": {
            "text/html": [
              "<span style=\"color:#4527A0\"><h1 style=\"font-size:18px\">Trial complete</h1></span>"
            ],
            "text/plain": [
              "<IPython.core.display.HTML object>"
            ]
          },
          "metadata": {
            "tags": []
          }
        },
        {
          "output_type": "display_data",
          "data": {
            "text/html": [
              "<span style=\"color:#4527A0\"><h1 style=\"font-size:18px\">Trial summary</h1></span>"
            ],
            "text/plain": [
              "<IPython.core.display.HTML object>"
            ]
          },
          "metadata": {
            "tags": []
          }
        },
        {
          "output_type": "display_data",
          "data": {
            "text/html": [
              "<span style=\"color:cyan\"> |-Trial ID: a62e329b29a66dbc215f5193933f4199</span>"
            ],
            "text/plain": [
              "<IPython.core.display.HTML object>"
            ]
          },
          "metadata": {
            "tags": []
          }
        },
        {
          "output_type": "display_data",
          "data": {
            "text/html": [
              "<span style=\"color:cyan\"> |-Score: 0.7553763389587402</span>"
            ],
            "text/plain": [
              "<IPython.core.display.HTML object>"
            ]
          },
          "metadata": {
            "tags": []
          }
        },
        {
          "output_type": "display_data",
          "data": {
            "text/html": [
              "<span style=\"color:cyan\"> |-Best step: 0</span>"
            ],
            "text/plain": [
              "<IPython.core.display.HTML object>"
            ]
          },
          "metadata": {
            "tags": []
          }
        },
        {
          "output_type": "display_data",
          "data": {
            "text/html": [
              "<span style=\"color:#7E57C2\"><h2 style=\"font-size:16px\">Hyperparameters:</h2></span>"
            ],
            "text/plain": [
              "<IPython.core.display.HTML object>"
            ]
          },
          "metadata": {
            "tags": []
          }
        },
        {
          "output_type": "display_data",
          "data": {
            "text/html": [
              "<span style=\"color:cyan\"> |-Dense layer: 128</span>"
            ],
            "text/plain": [
              "<IPython.core.display.HTML object>"
            ]
          },
          "metadata": {
            "tags": []
          }
        },
        {
          "output_type": "stream",
          "text": [
            "Epoch 1/10\n",
            "79/79 [==============================] - 3s 33ms/step - loss: 0.6711 - accuracy: 0.7044 - val_loss: 0.6889 - val_accuracy: 0.7366\n",
            "Epoch 2/10\n",
            "79/79 [==============================] - 3s 32ms/step - loss: 0.1163 - accuracy: 0.9762 - val_loss: 0.7377 - val_accuracy: 0.7473\n",
            "Epoch 3/10\n",
            "79/79 [==============================] - 2s 32ms/step - loss: 0.0229 - accuracy: 0.9937 - val_loss: 0.6888 - val_accuracy: 0.7527\n",
            "Epoch 4/10\n",
            "79/79 [==============================] - 2s 30ms/step - loss: 0.0074 - accuracy: 0.9996 - val_loss: 0.7761 - val_accuracy: 0.7124\n",
            "Epoch 5/10\n",
            "79/79 [==============================] - 2s 30ms/step - loss: 0.0063 - accuracy: 0.9984 - val_loss: 0.9172 - val_accuracy: 0.6774\n",
            "Epoch 6/10\n",
            "79/79 [==============================] - 2s 32ms/step - loss: 0.0032 - accuracy: 0.9996 - val_loss: 0.7599 - val_accuracy: 0.7796\n",
            "Epoch 7/10\n",
            "79/79 [==============================] - 2s 30ms/step - loss: 0.0019 - accuracy: 1.0000 - val_loss: 0.7524 - val_accuracy: 0.7500\n",
            "Epoch 8/10\n",
            "79/79 [==============================] - 2s 30ms/step - loss: 0.0084 - accuracy: 0.9980 - val_loss: 0.7593 - val_accuracy: 0.7285\n",
            "Epoch 9/10\n",
            "79/79 [==============================] - 2s 30ms/step - loss: 0.0150 - accuracy: 0.9937 - val_loss: 1.1043 - val_accuracy: 0.7043\n",
            "Epoch 10/10\n",
            "79/79 [==============================] - 2s 30ms/step - loss: 0.0055 - accuracy: 0.9988 - val_loss: 0.9822 - val_accuracy: 0.6774\n"
          ],
          "name": "stdout"
        },
        {
          "output_type": "display_data",
          "data": {
            "text/html": [
              "<span style=\"color:#4527A0\"><h1 style=\"font-size:18px\">Trial complete</h1></span>"
            ],
            "text/plain": [
              "<IPython.core.display.HTML object>"
            ]
          },
          "metadata": {
            "tags": []
          }
        },
        {
          "output_type": "display_data",
          "data": {
            "text/html": [
              "<span style=\"color:#4527A0\"><h1 style=\"font-size:18px\">Trial summary</h1></span>"
            ],
            "text/plain": [
              "<IPython.core.display.HTML object>"
            ]
          },
          "metadata": {
            "tags": []
          }
        },
        {
          "output_type": "display_data",
          "data": {
            "text/html": [
              "<span style=\"color:cyan\"> |-Trial ID: b94c4c02c84e29e4df7c377d1d9f0384</span>"
            ],
            "text/plain": [
              "<IPython.core.display.HTML object>"
            ]
          },
          "metadata": {
            "tags": []
          }
        },
        {
          "output_type": "display_data",
          "data": {
            "text/html": [
              "<span style=\"color:cyan\"> |-Score: 0.7795698642730713</span>"
            ],
            "text/plain": [
              "<IPython.core.display.HTML object>"
            ]
          },
          "metadata": {
            "tags": []
          }
        },
        {
          "output_type": "display_data",
          "data": {
            "text/html": [
              "<span style=\"color:cyan\"> |-Best step: 0</span>"
            ],
            "text/plain": [
              "<IPython.core.display.HTML object>"
            ]
          },
          "metadata": {
            "tags": []
          }
        },
        {
          "output_type": "display_data",
          "data": {
            "text/html": [
              "<span style=\"color:#7E57C2\"><h2 style=\"font-size:16px\">Hyperparameters:</h2></span>"
            ],
            "text/plain": [
              "<IPython.core.display.HTML object>"
            ]
          },
          "metadata": {
            "tags": []
          }
        },
        {
          "output_type": "display_data",
          "data": {
            "text/html": [
              "<span style=\"color:cyan\"> |-Dense layer: 64</span>"
            ],
            "text/plain": [
              "<IPython.core.display.HTML object>"
            ]
          },
          "metadata": {
            "tags": []
          }
        },
        {
          "output_type": "stream",
          "text": [
            "Epoch 1/10\n",
            "79/79 [==============================] - 3s 40ms/step - loss: 0.8828 - accuracy: 0.6825 - val_loss: 0.7614 - val_accuracy: 0.6989\n",
            "Epoch 2/10\n",
            "79/79 [==============================] - 3s 34ms/step - loss: 0.0770 - accuracy: 0.9837 - val_loss: 0.8198 - val_accuracy: 0.6935\n",
            "Epoch 3/10\n",
            "79/79 [==============================] - 3s 39ms/step - loss: 0.0159 - accuracy: 0.9984 - val_loss: 1.0611 - val_accuracy: 0.7070\n",
            "Epoch 4/10\n",
            "79/79 [==============================] - 3s 39ms/step - loss: 0.0045 - accuracy: 1.0000 - val_loss: 1.2320 - val_accuracy: 0.7151\n",
            "Epoch 5/10\n",
            "79/79 [==============================] - 3s 34ms/step - loss: 0.0020 - accuracy: 1.0000 - val_loss: 1.3457 - val_accuracy: 0.7097\n",
            "Epoch 6/10\n",
            "79/79 [==============================] - 3s 34ms/step - loss: 0.0018 - accuracy: 1.0000 - val_loss: 1.3645 - val_accuracy: 0.7151\n",
            "Epoch 7/10\n",
            "79/79 [==============================] - 3s 33ms/step - loss: 0.0017 - accuracy: 1.0000 - val_loss: 1.3343 - val_accuracy: 0.7043\n",
            "Epoch 8/10\n",
            "79/79 [==============================] - 3s 33ms/step - loss: 5.6791e-04 - accuracy: 1.0000 - val_loss: 1.5649 - val_accuracy: 0.7151\n",
            "Epoch 9/10\n",
            "79/79 [==============================] - 3s 33ms/step - loss: 4.2010e-04 - accuracy: 1.0000 - val_loss: 1.6972 - val_accuracy: 0.6989\n",
            "Epoch 10/10\n",
            "79/79 [==============================] - 3s 33ms/step - loss: 3.1262e-04 - accuracy: 1.0000 - val_loss: 1.6915 - val_accuracy: 0.7043\n"
          ],
          "name": "stdout"
        },
        {
          "output_type": "display_data",
          "data": {
            "text/html": [
              "<span style=\"color:#4527A0\"><h1 style=\"font-size:18px\">Trial complete</h1></span>"
            ],
            "text/plain": [
              "<IPython.core.display.HTML object>"
            ]
          },
          "metadata": {
            "tags": []
          }
        },
        {
          "output_type": "display_data",
          "data": {
            "text/html": [
              "<span style=\"color:#4527A0\"><h1 style=\"font-size:18px\">Trial summary</h1></span>"
            ],
            "text/plain": [
              "<IPython.core.display.HTML object>"
            ]
          },
          "metadata": {
            "tags": []
          }
        },
        {
          "output_type": "display_data",
          "data": {
            "text/html": [
              "<span style=\"color:cyan\"> |-Trial ID: 6e99ceed2ff79f3a475252cf345b8006</span>"
            ],
            "text/plain": [
              "<IPython.core.display.HTML object>"
            ]
          },
          "metadata": {
            "tags": []
          }
        },
        {
          "output_type": "display_data",
          "data": {
            "text/html": [
              "<span style=\"color:cyan\"> |-Score: 0.7150537371635437</span>"
            ],
            "text/plain": [
              "<IPython.core.display.HTML object>"
            ]
          },
          "metadata": {
            "tags": []
          }
        },
        {
          "output_type": "display_data",
          "data": {
            "text/html": [
              "<span style=\"color:cyan\"> |-Best step: 0</span>"
            ],
            "text/plain": [
              "<IPython.core.display.HTML object>"
            ]
          },
          "metadata": {
            "tags": []
          }
        },
        {
          "output_type": "display_data",
          "data": {
            "text/html": [
              "<span style=\"color:#7E57C2\"><h2 style=\"font-size:16px\">Hyperparameters:</h2></span>"
            ],
            "text/plain": [
              "<IPython.core.display.HTML object>"
            ]
          },
          "metadata": {
            "tags": []
          }
        },
        {
          "output_type": "display_data",
          "data": {
            "text/html": [
              "<span style=\"color:cyan\"> |-Dense layer: 256</span>"
            ],
            "text/plain": [
              "<IPython.core.display.HTML object>"
            ]
          },
          "metadata": {
            "tags": []
          }
        },
        {
          "output_type": "stream",
          "text": [
            "Epoch 1/10\n",
            "79/79 [==============================] - 4s 52ms/step - loss: 0.7995 - accuracy: 0.7484 - val_loss: 0.8069 - val_accuracy: 0.5753\n",
            "Epoch 2/10\n",
            "79/79 [==============================] - 4s 52ms/step - loss: 0.0951 - accuracy: 0.9730 - val_loss: 0.8166 - val_accuracy: 0.6640\n",
            "Epoch 3/10\n",
            "79/79 [==============================] - 3s 38ms/step - loss: 0.0291 - accuracy: 0.9913 - val_loss: 0.8949 - val_accuracy: 0.6559\n",
            "Epoch 4/10\n",
            "79/79 [==============================] - 4s 53ms/step - loss: 0.0129 - accuracy: 0.9968 - val_loss: 1.2926 - val_accuracy: 0.6747\n",
            "Epoch 5/10\n",
            "79/79 [==============================] - 3s 37ms/step - loss: 0.0023 - accuracy: 1.0000 - val_loss: 1.6335 - val_accuracy: 0.6559\n",
            "Epoch 6/10\n",
            "79/79 [==============================] - 3s 37ms/step - loss: 0.0018 - accuracy: 1.0000 - val_loss: 1.6212 - val_accuracy: 0.6694\n",
            "Epoch 7/10\n",
            "79/79 [==============================] - 3s 37ms/step - loss: 0.0016 - accuracy: 1.0000 - val_loss: 1.6380 - val_accuracy: 0.6747\n",
            "Epoch 8/10\n",
            "79/79 [==============================] - 3s 37ms/step - loss: 0.0016 - accuracy: 1.0000 - val_loss: 1.6909 - val_accuracy: 0.6694\n",
            "Epoch 9/10\n",
            "79/79 [==============================] - 3s 36ms/step - loss: 0.0012 - accuracy: 0.9996 - val_loss: 1.9901 - val_accuracy: 0.6425\n",
            "Epoch 10/10\n",
            "79/79 [==============================] - 3s 37ms/step - loss: 0.0059 - accuracy: 0.9988 - val_loss: 1.6967 - val_accuracy: 0.6640\n"
          ],
          "name": "stdout"
        },
        {
          "output_type": "display_data",
          "data": {
            "text/html": [
              "<span style=\"color:#4527A0\"><h1 style=\"font-size:18px\">Trial complete</h1></span>"
            ],
            "text/plain": [
              "<IPython.core.display.HTML object>"
            ]
          },
          "metadata": {
            "tags": []
          }
        },
        {
          "output_type": "display_data",
          "data": {
            "text/html": [
              "<span style=\"color:#4527A0\"><h1 style=\"font-size:18px\">Trial summary</h1></span>"
            ],
            "text/plain": [
              "<IPython.core.display.HTML object>"
            ]
          },
          "metadata": {
            "tags": []
          }
        },
        {
          "output_type": "display_data",
          "data": {
            "text/html": [
              "<span style=\"color:cyan\"> |-Trial ID: 05331a772740a92d62a91941d0d589ab</span>"
            ],
            "text/plain": [
              "<IPython.core.display.HTML object>"
            ]
          },
          "metadata": {
            "tags": []
          }
        },
        {
          "output_type": "display_data",
          "data": {
            "text/html": [
              "<span style=\"color:cyan\"> |-Score: 0.6747311949729919</span>"
            ],
            "text/plain": [
              "<IPython.core.display.HTML object>"
            ]
          },
          "metadata": {
            "tags": []
          }
        },
        {
          "output_type": "display_data",
          "data": {
            "text/html": [
              "<span style=\"color:cyan\"> |-Best step: 0</span>"
            ],
            "text/plain": [
              "<IPython.core.display.HTML object>"
            ]
          },
          "metadata": {
            "tags": []
          }
        },
        {
          "output_type": "display_data",
          "data": {
            "text/html": [
              "<span style=\"color:#7E57C2\"><h2 style=\"font-size:16px\">Hyperparameters:</h2></span>"
            ],
            "text/plain": [
              "<IPython.core.display.HTML object>"
            ]
          },
          "metadata": {
            "tags": []
          }
        },
        {
          "output_type": "display_data",
          "data": {
            "text/html": [
              "<span style=\"color:cyan\"> |-Dense layer: 512</span>"
            ],
            "text/plain": [
              "<IPython.core.display.HTML object>"
            ]
          },
          "metadata": {
            "tags": []
          }
        },
        {
          "output_type": "stream",
          "text": [
            "INFO:tensorflow:Oracle triggered exit\n"
          ],
          "name": "stdout"
        },
        {
          "output_type": "stream",
          "text": [
            "INFO:tensorflow:Oracle triggered exit\n"
          ],
          "name": "stderr"
        }
      ]
    },
    {
      "cell_type": "code",
      "metadata": {
        "id": "MvVMb3q6Prvr",
        "colab_type": "code",
        "colab": {}
      },
      "source": [
        "best_model = tuner.get_best_models()[0]"
      ],
      "execution_count": 45,
      "outputs": []
    },
    {
      "cell_type": "code",
      "metadata": {
        "id": "O5a40XJeRPhz",
        "colab_type": "code",
        "colab": {
          "base_uri": "https://localhost:8080/",
          "height": 52
        },
        "outputId": "9371c0b8-1580-43ce-d5b1-c5ab5150dfbe"
      },
      "source": [
        "best_model.evaluate(test_images, test_labels)"
      ],
      "execution_count": 53,
      "outputs": [
        {
          "output_type": "stream",
          "text": [
            "12/12 [==============================] - 0s 12ms/step - loss: 0.7599 - accuracy: 0.7796\n"
          ],
          "name": "stdout"
        },
        {
          "output_type": "execute_result",
          "data": {
            "text/plain": [
              "[0.7599302530288696, 0.7795698642730713]"
            ]
          },
          "metadata": {
            "tags": []
          },
          "execution_count": 53
        }
      ]
    },
    {
      "cell_type": "code",
      "metadata": {
        "id": "3F-XYp6KRbJl",
        "colab_type": "code",
        "colab": {
          "base_uri": "https://localhost:8080/",
          "height": 433
        },
        "outputId": "bfb69551-f47e-4d02-a214-2876a5c5169b"
      },
      "source": [
        "best_model.summary()"
      ],
      "execution_count": 47,
      "outputs": [
        {
          "output_type": "stream",
          "text": [
            "Model: \"sequential\"\n",
            "_________________________________________________________________\n",
            "Layer (type)                 Output Shape              Param #   \n",
            "=================================================================\n",
            "average_pooling2d (AveragePo (None, 99, 99, 1)         0         \n",
            "_________________________________________________________________\n",
            "conv2d (Conv2D)              (None, 97, 97, 64)        640       \n",
            "_________________________________________________________________\n",
            "conv2d_1 (Conv2D)            (None, 95, 95, 32)        18464     \n",
            "_________________________________________________________________\n",
            "max_pooling2d (MaxPooling2D) (None, 47, 47, 32)        0         \n",
            "_________________________________________________________________\n",
            "dropout (Dropout)            (None, 47, 47, 32)        0         \n",
            "_________________________________________________________________\n",
            "flatten (Flatten)            (None, 70688)             0         \n",
            "_________________________________________________________________\n",
            "dense (Dense)                (None, 64)                4524096   \n",
            "_________________________________________________________________\n",
            "dense_1 (Dense)              (None, 3)                 195       \n",
            "=================================================================\n",
            "Total params: 4,543,395\n",
            "Trainable params: 4,543,395\n",
            "Non-trainable params: 0\n",
            "_________________________________________________________________\n"
          ],
          "name": "stdout"
        }
      ]
    },
    {
      "cell_type": "code",
      "metadata": {
        "id": "pqDU_ynRU9R7",
        "colab_type": "code",
        "colab": {
          "base_uri": "https://localhost:8080/",
          "height": 287
        },
        "outputId": "cc4a4d65-ceef-4fae-87bc-bd4f28e0e770"
      },
      "source": [
        "image = train_images[0].reshape(300, 300)\n",
        "\n",
        "plt.imshow(image, cmap=\"gist_ncar\")"
      ],
      "execution_count": 81,
      "outputs": [
        {
          "output_type": "execute_result",
          "data": {
            "text/plain": [
              "<matplotlib.image.AxesImage at 0x7f5a111372e8>"
            ]
          },
          "metadata": {
            "tags": []
          },
          "execution_count": 81
        },
        {
          "output_type": "display_data",
          "data": {
            "image/png": "[encoded data removed]",
            "text/plain": [
              "<Figure size 432x288 with 1 Axes>"
            ]
          },
          "metadata": {
            "tags": [],
            "needs_background": "light"
          }
        }
      ]
    },
    {
      "cell_type": "code",
      "metadata": {
        "id": "ZYRa4dPVZDND",
        "colab_type": "code",
        "colab": {}
      },
      "source": [
        ""
      ],
      "execution_count": null,
      "outputs": []
    }
  ]
}